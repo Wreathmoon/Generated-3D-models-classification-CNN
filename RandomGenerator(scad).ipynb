{
 "cells": [
  {
   "cell_type": "code",
   "execution_count": 2,
   "id": "b86fcbc4",
   "metadata": {},
   "outputs": [],
   "source": [
    "import random\n",
    "\n",
    "from solid import *\n",
    "from solid.utils import *"
   ]
  },
  {
   "cell_type": "code",
   "execution_count": 3,
   "id": "3af70ac6",
   "metadata": {},
   "outputs": [],
   "source": [
    "def rand_obj(i):\n",
    "    \n",
    "    cub= random.uniform(5,8)\n",
    "    sph= random.uniform(5,8)\n",
    "    r= sph= random.uniform(5,8)\n",
    "    h= sph= random.uniform(5,8)\n",
    "    x=random.random()*360\n",
    "    y=random.random()*360\n",
    "    z=random.random()*360\n",
    "    \n",
    "    global obj\n",
    "    \n",
    "    if i<0.3333 :\n",
    "        obj=rotate([x,y,z])(cube(cub))\n",
    "    elif 0.3333<=i<=0.6667 :\n",
    "        obj=rotate([x,y,z])(sphere(sph))\n",
    "    else :\n",
    "        obj=rotate([x,y,z])(cylinder(r, h))\n",
    "    return obj\n"
    
   ]
  },
  {
   "cell_type": "code",
   "execution_count": 14,
   "id": "ebafdb5a",
   "metadata": {},
   "outputs": [],
   "source": [
    "i=0.1\n",
    "m=1\n",
    "while m<=333:\n",
    "    obj = rand_obj(i)\n",
    "    scad_render_to_file(obj, path)\n",
    "    m+=1"
   ]
  },
  {
   "cell_type": "code",
   "execution_count": null,
   "id": "4ad40621",
   "metadata": {},
   "outputs": [],
   "source": [
    "i=0.5\n",
    "m=1\n",
    "while m<=333:\n",
    "    obj = rand_obj(i)\n",
    "    scad_render_to_file(obj, path)\n",
    "    m+=1"
   ]
  },
  {
   "cell_type": "code",
   "execution_count": null,
   "id": "c8a308a0",
   "metadata": {},
   "outputs": [],
   "source": [
    "i=0.8\n",
    "m=1\n",
    "while m<=333:\n",
    "    obj = rand_obj(i)\n",
    "    scad_render_to_file(obj, path)\n",
    "    m+=1"
   ]
  }
 ],
 "metadata": {
  "kernelspec": {
   "display_name": "Python 3 (ipykernel)",
   "language": "python",
   "name": "python3"
  },
  "language_info": {
   "codemirror_mode": {
    "name": "ipython",
    "version": 3
   },
   "file_extension": ".py",
   "mimetype": "text/x-python",
   "name": "python",
   "nbconvert_exporter": "python",
   "pygments_lexer": "ipython3",
   "version": "3.7.11"
  }
 },
 "nbformat": 4,
 "nbformat_minor": 5
}
