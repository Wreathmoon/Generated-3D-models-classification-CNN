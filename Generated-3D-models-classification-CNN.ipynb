{
 "cells": [
  {
   "cell_type": "code",
   "execution_count": 1,
   "id": "987cab56",
   "metadata": {},
   "outputs": [],
   "source": [
    "import tensorflow as tf\n",
    "import pathlib\n",
    "import glob\n",
    "import numpy as np\n",
    "import matplotlib\n",
    "import matplotlib.pyplot as plt\n",
    "\n",
    "from tensorflow import keras\n",
    "from tensorflow.keras import datasets, layers, models\n",
    "from tensorflow.keras.models import Sequential\n",
    "\n",
    "AUTOTUNE = tf.data.experimental.AUTOTUNE"
   ]
  },
  {
   "cell_type": "markdown",
   "id": "b9dd2b28",
   "metadata": {},
   "source": [
    "<font size=5>\n",
    "Dataset"
   ]
  },
  {
   "cell_type": "code",
   "execution_count": 2,
   "id": "6cfe4d4f",
   "metadata": {},
   "outputs": [],
   "source": [
    "train_root = pathlib.Path(r'C:\\Users\\Wreathmoon\\Desktop\\train_dataset')\n",
    "val_root = pathlib.Path(r'C:\\Users\\Wreathmoon\\Desktop\\val_dataset')"
   ]
  },
  {
   "cell_type": "code",
   "execution_count": 3,
   "id": "7872c74a",
   "metadata": {
    "scrolled": true
   },
   "outputs": [
    {
     "name": "stdout",
     "output_type": "stream",
     "text": [
      "888 111\n"
     ]
    }
   ],
   "source": [
    "import random\n",
    "\n",
    "train_paths = list(train_root.glob('*/*'))\n",
    "train_paths = [str(path) for path in train_paths]\n",
    "random.shuffle(train_paths)\n",
    "\n",
    "val_paths = list(val_root.glob('*/*'))\n",
    "val_paths = [str(path) for path in val_paths]\n",
    "random.shuffle(val_paths)\n",
    "\n",
    "train_count = len(train_paths)\n",
    "val_count = len(val_paths)\n",
    "print(train_count,val_count)"
   ]
  },
  {
   "cell_type": "code",
   "execution_count": 4,
   "id": "6b47cda4",
   "metadata": {},
   "outputs": [
    {
     "data": {
      "text/plain": [
       "{'cube': 0, 'cylinder': 1, 'sphere': 2}"
      ]
     },
     "execution_count": 4,
     "metadata": {},
     "output_type": "execute_result"
    }
   ],
   "source": [
    "train_label_names = sorted(item.name for item in train_root.glob('*/') if item.is_dir())\n",
    "val_label_names = sorted(item.name for item in val_root.glob('*/') if item.is_dir())\n",
    "\n",
    "train_label_to_index = dict((name, index) for index, name in enumerate(train_label_names))\n",
    "val_label_to_index = dict((name, index) for index, name in enumerate(val_label_names))\n",
    "\n",
    "train_label_to_index"
   ]
  },
  {
   "cell_type": "code",
   "execution_count": 5,
   "id": "0d187e0f",
   "metadata": {},
   "outputs": [
    {
     "name": "stdout",
     "output_type": "stream",
     "text": [
      "First 10 labels indices:  [1, 0, 1, 1, 0, 1, 1, 1, 1, 2]\n",
      "First 10 labels indices:  [0, 0, 2, 1, 2, 1, 2, 2, 0, 1]\n"
     ]
    }
   ],
   "source": [
    "train_labels = [train_label_to_index[pathlib.Path(path).parent.name]\n",
    "                    for path in train_paths]\n",
    "val_labels = [val_label_to_index[pathlib.Path(path).parent.name]\n",
    "                    for path in val_paths]\n",
    "\n",
    "print(\"First 10 labels indices: \", train_labels[:10])\n",
    "print(\"First 10 labels indices: \", val_labels[:10])"
   ]
  },
  {
   "cell_type": "code",
   "execution_count": 6,
   "id": "bb213c61",
   "metadata": {
    "scrolled": true
   },
   "outputs": [],
   "source": [
    "def preprocess_3dmodels(path):\n",
    "    n_points=50\n",
    "    step_size=1\n",
    "    data = np.genfromtxt(path)\n",
    "    # create canvas cube with all 0s\n",
    "    cube = np.zeros((n_points,n_points,n_points))\n",
    "    # use step size to see how big is a voxel\n",
    "    factor = 1/step_size\n",
    "    # calculate center of the cube, which relates to 0,0,0 in xyz\n",
    "    center = n_points//2\n",
    " \n",
    "    for entry in data:\n",
    "        x, y, z = entry\n",
    "        x=int(x*factor+center)\n",
    "        y=int(y*factor+center)\n",
    "        z=int(z*factor+center)\n",
    "        # adjust coordinates to cube\n",
    "        cube[x, y, z] = cube[x, y, z]+1\n",
    " \n",
    "    return cube"
   ]
  },
  {
   "cell_type": "code",
   "execution_count": 7,
   "id": "37ff0ff5",
   "metadata": {},
   "outputs": [],
   "source": [
    "def load_and_preprocess_3dmodels(list):\n",
    "    i=0\n",
    "    value = [None] * len(list)    \n",
    "    while i<len(list):\n",
    "        value[i] =  preprocess_3dmodels(list[i])\n",
    "        i+=1\n",
    "    \n",
    "    return value"
   ]
  },
  {
   "cell_type": "code",
   "execution_count": 8,
   "id": "f14a05ff",
   "metadata": {},
   "outputs": [],
   "source": [
    "train_values = load_and_preprocess_3dmodels(train_paths)\n",
    "val_values = load_and_preprocess_3dmodels(val_paths)\n",
    "\n",
    "train_values = tf.expand_dims(train_values, axis=-1)\n",
    "val_values = tf.expand_dims(val_values, axis=-1)"
   ]
  },
  {
   "cell_type": "code",
   "execution_count": 9,
   "id": "b82c0441",
   "metadata": {},
   "outputs": [],
   "source": [
    "train_labels = tf.expand_dims(train_labels, axis=-1)\n",
    "val_labels = tf.expand_dims(val_labels, axis=-1)"
   ]
  },
  {
   "cell_type": "code",
   "execution_count": 10,
   "id": "d54a1ddb",
   "metadata": {
    "scrolled": true
   },
   "outputs": [
    {
     "data": {
      "text/plain": [
       "<TensorSliceDataset shapes: ((50, 50, 50, 1), (1,)), types: (tf.float64, tf.int32)>"
      ]
     },
     "execution_count": 10,
     "metadata": {},
     "output_type": "execute_result"
    }
   ],
   "source": [
    "train_ds = tf.data.Dataset.from_tensor_slices((train_values, train_labels))\n",
    "val_ds = tf.data.Dataset.from_tensor_slices((val_values, val_labels))\n",
    "val_ds"
   ]
  },
  {
   "cell_type": "code",
   "execution_count": 11,
   "id": "5c13b3ce",
   "metadata": {},
   "outputs": [
    {
     "data": {
      "text/plain": [
       "<PrefetchDataset shapes: ((None, 50, 50, 50, 1), (None, 1)), types: (tf.float64, tf.int32)>"
      ]
     },
     "execution_count": 11,
     "metadata": {},
     "output_type": "execute_result"
    }
   ],
   "source": [
    "BATCH_SIZE = 32\n",
    "\n",
    "train_ds = train_ds.shuffle(buffer_size=train_count)\n",
    "train_ds = train_ds.batch(BATCH_SIZE)\n",
    "train_ds = train_ds.prefetch(buffer_size=AUTOTUNE)\n",
    "\n",
    "val_ds = train_ds.shuffle(buffer_size=val_count)\n",
    "val_ds = train_ds.batch(BATCH_SIZE)\n",
    "val_ds = train_ds.prefetch(buffer_size=AUTOTUNE)\n",
    "\n",
    "train_ds "
   ]
  },
  {
   "cell_type": "markdown",
   "id": "aea13389",
   "metadata": {},
   "source": [
    "<font size=5>\n",
    "Model"
   ]
  },
  {
   "cell_type": "code",
   "execution_count": 12,
   "id": "a35147b3",
   "metadata": {},
   "outputs": [
    {
     "name": "stdout",
     "output_type": "stream",
     "text": [
      "Model: \"sequential\"\n",
      "_________________________________________________________________\n",
      "Layer (type)                 Output Shape              Param #   \n",
      "=================================================================\n",
      "conv3d (Conv3D)              (None, 23, 23, 23, 32)    4032      \n",
      "_________________________________________________________________\n",
      "dropout (Dropout)            (None, 23, 23, 23, 32)    0         \n",
      "_________________________________________________________________\n",
      "conv3d_1 (Conv3D)            (None, 11, 11, 11, 32)    27680     \n",
      "_________________________________________________________________\n",
      "dropout_1 (Dropout)          (None, 11, 11, 11, 32)    0         \n",
      "_________________________________________________________________\n",
      "flatten (Flatten)            (None, 42592)             0         \n",
      "_________________________________________________________________\n",
      "dense (Dense)                (None, 32)                1362976   \n",
      "_________________________________________________________________\n",
      "dense_1 (Dense)              (None, 3)                 99        \n",
      "=================================================================\n",
      "Total params: 1,394,787\n",
      "Trainable params: 1,394,787\n",
      "Non-trainable params: 0\n",
      "_________________________________________________________________\n"
     ]
    }
   ],
   "source": [
    "num_class = 3\n",
    "\n",
    "model = Sequential([\n",
    "    layers.Conv3D(32, 5, padding='valid', strides=(2,2,2), activation='relu', input_shape=(50, 50, 50, 1)),\n",
    "    layers.Dropout(0.4),\n",
    "    layers.Conv3D(32, 3, padding='valid', strides=(2,2,2), activation='relu'),\n",
    "    layers.Dropout(0.4),\n",
    "    \n",
    "    layers.Flatten(),\n",
    "    layers.Dense(32, activation='relu'),\n",
    "    layers.Dense(num_class)\n",
    "])\n",
    "model.summary()"
   ]
  },
  {
   "cell_type": "code",
   "execution_count": 13,
   "id": "e8af8dd0",
   "metadata": {},
   "outputs": [],
   "source": [
    "model.compile(optimizer='adam',\n",
    "              loss=tf.keras.losses.SparseCategoricalCrossentropy(from_logits=True),\n",
    "              metrics=['accuracy'])"
   ]
  },
  {
   "cell_type": "markdown",
   "id": "db63999b",
   "metadata": {},
   "source": [
    "<font size=5>\n",
    "Training"
   ]
  },
  {
   "cell_type": "code",
   "execution_count": 14,
   "id": "0a4f971b",
   "metadata": {
    "scrolled": true
   },
   "outputs": [
    {
     "name": "stdout",
     "output_type": "stream",
     "text": [
      "Epoch 1/5\n",
      "28/28 [==============================] - 9s 319ms/step - loss: 0.5229 - accuracy: 0.7725 - val_loss: 0.0659 - val_accuracy: 0.9966\n",
      "Epoch 2/5\n",
      "28/28 [==============================] - 9s 311ms/step - loss: 0.0731 - accuracy: 0.9786 - val_loss: 0.0267 - val_accuracy: 0.9932\n",
      "Epoch 3/5\n",
      "28/28 [==============================] - 9s 327ms/step - loss: 0.0571 - accuracy: 0.9786 - val_loss: 0.0129 - val_accuracy: 0.9989\n",
      "Epoch 4/5\n",
      "28/28 [==============================] - 9s 319ms/step - loss: 0.0172 - accuracy: 0.9944 - val_loss: 0.0014 - val_accuracy: 1.0000\n",
      "Epoch 5/5\n",
      "28/28 [==============================] - 9s 316ms/step - loss: 0.0364 - accuracy: 0.9899 - val_loss: 0.0039 - val_accuracy: 1.0000\n"
     ]
    }
   ],
   "source": [
    "epochs = 5\n",
    "history = model.fit(train_ds, epochs=epochs, verbose=1, validation_data=val_ds)"
   ]
  },
  {
   "cell_type": "code",
   "execution_count": 15,
   "id": "d649c9d7",
   "metadata": {},
   "outputs": [
    {
     "data": {
      "image/png": "[encoded data removed]",
      "text/plain": [
       "<Figure size 576x576 with 2 Axes>"
      ]
     },
     "metadata": {
      "needs_background": "light"
     },
     "output_type": "display_data"
    }
   ],
   "source": [
    "acc = history.history['accuracy']\n",
    "val_acc = history.history['val_accuracy']\n",
    "\n",
    "loss = history.history['loss']\n",
    "val_loss = history.history['val_loss']\n",
    "\n",
    "epochs_range = range(epochs)\n",
    "\n",
    "plt.figure(figsize=(8, 8))\n",
    "plt.subplot(1, 2, 1)\n",
    "plt.plot(epochs_range, acc, label='Training Accuracy')\n",
    "plt.plot(epochs_range, val_acc, label='Validation Accuracy')\n",
    "plt.legend(loc='lower right')\n",
    "plt.title('Training and Validation Accuracy')\n",
    "\n",
    "plt.subplot(1, 2, 2)\n",
    "plt.plot(epochs_range, loss, label='Training Loss')\n",
    "plt.plot(epochs_range, val_loss, label='Validation Loss')\n",
    "plt.legend(loc='upper right')\n",
    "plt.title('Training and Validation Loss')\n",
    "plt.show()"
   ]
  },
  {
   "cell_type": "code",
   "execution_count": 16,
   "id": "7e4944da",
   "metadata": {},
   "outputs": [
    {
     "name": "stdout",
     "output_type": "stream",
     "text": [
      "This image most likely belongs to cylinder with a 99.94 percent confidence.\n"
     ]
    }
   ],
   "source": [
    "class_names = train_label_names\n",
    "predict = preprocess_3dmodels(r'C:\\Users\\Wreathmoon\\Desktop\\Prediction_data\\cylinder.xyz')\n",
    "\n",
    "p_array = tf.expand_dims(predict, 0) # Create a batch\n",
    "p_array = tf.expand_dims(p_array, -1)\n",
    "predictions = model.predict(p_array)\n",
    "score = tf.nn.softmax(predictions[0])\n",
    "\n",
    "print(\n",
    "    \"This image most likely belongs to {} with a {:.2f} percent confidence.\"\n",
    "    .format(class_names[np.argmax(score)], 100 * np.max(score))\n",
    ")"
   ]
  }
 ],
 "metadata": {
  "kernelspec": {
   "display_name": "Python 3 (ipykernel)",
   "language": "python",
   "name": "python3"
  },
  "language_info": {
   "codemirror_mode": {
    "name": "ipython",
    "version": 3
   },
   "file_extension": ".py",
   "mimetype": "text/x-python",
   "name": "python",
   "nbconvert_exporter": "python",
   "pygments_lexer": "ipython3",
   "version": "3.7.11"
  }
 },
 "nbformat": 4,
 "nbformat_minor": 5
}
